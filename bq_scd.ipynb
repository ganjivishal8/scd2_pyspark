{
 "cells": [
  {
   "cell_type": "code",
   "execution_count": 1,
   "metadata": {},
   "outputs": [],
   "source": [
    "import findspark\n",
    "findspark.init()\n",
    "\n",
    "import pyspark\n",
    "from pyspark.sql.functions import *\n",
    "from pyspark.sql import SparkSession,SQLContext\n",
    "from pyspark.sql.window import Window"
   ]
  },
  {
   "cell_type": "code",
   "execution_count": 5,
   "metadata": {},
   "outputs": [],
   "source": [
    "#Global Connection Variables\n",
    "GCP_PROJECT_ID = \"data-project-406509\"\n",
    "dataset_name = \"vishal_db\"\n",
    "BIGQUERY_TABLE_NAME = \"\"\n",
    "TEMPORARY_BUCKET_NAME = \"vish_bucket1\""
   ]
  },
  {
   "cell_type": "code",
   "execution_count": 2,
   "metadata": {},
   "outputs": [],
   "source": [
    "spark=SparkSession.builder.getOrCreate()"
   ]
  },
  {
   "cell_type": "code",
   "execution_count": 1,
   "metadata": {},
   "outputs": [
    {
     "ename": "NameError",
     "evalue": "name 'spark' is not defined",
     "output_type": "error",
     "traceback": [
      "\u001b[1;31m---------------------------------------------------------------------------\u001b[0m",
      "\u001b[1;31mNameError\u001b[0m                                 Traceback (most recent call last)",
      "\u001b[1;32md:\\pyspark practice\\Data_Processing\\scd2\\bq_scd.ipynb Cell 4\u001b[0m line \u001b[0;36m4\n\u001b[0;32m      <a href='vscode-notebook-cell:/d%3A/pyspark%20practice/Data_Processing/scd2/bq_scd.ipynb#W3sZmlsZQ%3D%3D?line=0'>1</a>\u001b[0m \u001b[39m# spark.conf.set(\"viewsEnabled\",\"true\")\u001b[39;00m\n\u001b[0;32m      <a href='vscode-notebook-cell:/d%3A/pyspark%20practice/Data_Processing/scd2/bq_scd.ipynb#W3sZmlsZQ%3D%3D?line=1'>2</a>\u001b[0m \u001b[39m# spark.conf.set(\"materializationDataset\",\"<dataset>\")\u001b[39;00m\n\u001b[0;32m      <a href='vscode-notebook-cell:/d%3A/pyspark%20practice/Data_Processing/scd2/bq_scd.ipynb#W3sZmlsZQ%3D%3D?line=2'>3</a>\u001b[0m table\u001b[39m=\u001b[39m\u001b[39m\"\u001b[39m\u001b[39mdata-project-406509.vishal_db.source_scd\u001b[39m\u001b[39m\"\u001b[39m\n\u001b[1;32m----> <a href='vscode-notebook-cell:/d%3A/pyspark%20practice/Data_Processing/scd2/bq_scd.ipynb#W3sZmlsZQ%3D%3D?line=3'>4</a>\u001b[0m dest_table\u001b[39m=\u001b[39mspark\u001b[39m.\u001b[39mread\u001b[39m.\u001b[39mformat(\u001b[39m\"\u001b[39m\u001b[39mbigquery\u001b[39m\u001b[39m\"\u001b[39m) \\\n\u001b[0;32m      <a href='vscode-notebook-cell:/d%3A/pyspark%20practice/Data_Processing/scd2/bq_scd.ipynb#W3sZmlsZQ%3D%3D?line=4'>5</a>\u001b[0m             \u001b[39m.\u001b[39moption(\u001b[39m\"\u001b[39m\u001b[39mtable\u001b[39m\u001b[39m\"\u001b[39m,table)\\\n\u001b[0;32m      <a href='vscode-notebook-cell:/d%3A/pyspark%20practice/Data_Processing/scd2/bq_scd.ipynb#W3sZmlsZQ%3D%3D?line=5'>6</a>\u001b[0m             \u001b[39m.\u001b[39mload()\n\u001b[0;32m      <a href='vscode-notebook-cell:/d%3A/pyspark%20practice/Data_Processing/scd2/bq_scd.ipynb#W3sZmlsZQ%3D%3D?line=7'>8</a>\u001b[0m dest_table\u001b[39m.\u001b[39mshow()         \n\u001b[0;32m     <a href='vscode-notebook-cell:/d%3A/pyspark%20practice/Data_Processing/scd2/bq_scd.ipynb#W3sZmlsZQ%3D%3D?line=9'>10</a>\u001b[0m \u001b[39m# .filter(col('table_name')== \"source_scd\").collect()\u001b[39;00m\n",
      "\u001b[1;31mNameError\u001b[0m: name 'spark' is not defined"
     ]
    }
   ],
   "source": [
    "# spark.conf.set(\"viewsEnabled\",\"true\")\n",
    "# spark.conf.set(\"materializationDataset\",\"<dataset>\")\n",
    "table=\"data-project-406509.vishal_db.source_scd\"\n",
    "dest_table=spark.read.format(\"bigquery\") \\\n",
    "            .option(\"table\",table)\\\n",
    "            .load()\n",
    "\n",
    "dest_table.show()         \n",
    "            \n",
    "# .filter(col('table_name')== \"source_scd\").collect()"
   ]
  },
  {
   "cell_type": "code",
   "execution_count": null,
   "metadata": {},
   "outputs": [],
   "source": [
    "url=\"data-project-406509.vishal_db.INFORMATION_SCHEMA.TABLES\"\n",
    "table2=spark.read.format(\"bigquery\").load(f\"select * from {url}\")"
   ]
  },
  {
   "cell_type": "code",
   "execution_count": null,
   "metadata": {},
   "outputs": [],
   "source": [
    "from google.cloud import bigquery"
   ]
  },
  {
   "cell_type": "code",
   "execution_count": null,
   "metadata": {},
   "outputs": [],
   "source": [
    "# Construct the table reference\n",
    "table_ref = bigquery.Client(project=project_id).dataset(dataset_id).table(table_id)\n",
    "\n",
    "# Check if the table exists\n",
    "try:\n",
    "    bigquery.Client(project=project_id).get_table(table_ref)\n",
    "    print(f\"The table {table_id} exists.\")\n",
    "except Exception as e:\n",
    "    print(f\"The table {table_id} does not exist. Error: {e}\")"
   ]
  },
  {
   "cell_type": "code",
   "execution_count": 35,
   "metadata": {},
   "outputs": [
    {
     "ename": "ImportError",
     "evalue": "cannot import name 'BigQueryCatalog' from 'pyspark.sql.catalog' (C:\\Users\\SpringMl\\spark\\spark-3.5.0-bin-hadoop3\\spark-3.5.0-bin-hadoop3\\python\\pyspark\\sql\\catalog.py)",
     "output_type": "error",
     "traceback": [
      "\u001b[1;31m---------------------------------------------------------------------------\u001b[0m",
      "\u001b[1;31mImportError\u001b[0m                               Traceback (most recent call last)",
      "\u001b[1;32md:\\pyspark practice\\Data_Processing\\scd2\\bq_scd.ipynb Cell 8\u001b[0m line \u001b[0;36m1\n\u001b[1;32m----> <a href='vscode-notebook-cell:/d%3A/pyspark%20practice/Data_Processing/scd2/bq_scd.ipynb#X10sZmlsZQ%3D%3D?line=0'>1</a>\u001b[0m \u001b[39mfrom\u001b[39;00m \u001b[39mpyspark\u001b[39;00m\u001b[39m.\u001b[39;00m\u001b[39msql\u001b[39;00m\u001b[39m.\u001b[39;00m\u001b[39mcatalog\u001b[39;00m \u001b[39mimport\u001b[39;00m BigQueryCatalog\n\u001b[0;32m      <a href='vscode-notebook-cell:/d%3A/pyspark%20practice/Data_Processing/scd2/bq_scd.ipynb#X10sZmlsZQ%3D%3D?line=2'>3</a>\u001b[0m \u001b[39m# Get BigQuery catalog\u001b[39;00m\n\u001b[0;32m      <a href='vscode-notebook-cell:/d%3A/pyspark%20practice/Data_Processing/scd2/bq_scd.ipynb#X10sZmlsZQ%3D%3D?line=3'>4</a>\u001b[0m catalog \u001b[39m=\u001b[39m BigQueryCatalog(spark)\n",
      "\u001b[1;31mImportError\u001b[0m: cannot import name 'BigQueryCatalog' from 'pyspark.sql.catalog' (C:\\Users\\SpringMl\\spark\\spark-3.5.0-bin-hadoop3\\spark-3.5.0-bin-hadoop3\\python\\pyspark\\sql\\catalog.py)"
     ]
    }
   ],
   "source": [
    "from pyspark.sql.catalog import BigQueryCatalog\n",
    "\n",
    "# Get BigQuery catalog\n",
    "catalog = BigQueryCatalog(spark)\n",
    "\n",
    "# List tables in the specified dataset\n",
    "tables = catalog.listTables(f\"data-project-406509.vishal_db\")\n",
    "\n",
    "# Specify the table name you want to check\n",
    "table_name = \"dest_scd\"\n",
    "\n",
    "# Check if the table exists\n",
    "if any(table.name == table_name for table in tables):\n",
    "    print(f\"The table {table_name} exists.\")\n",
    "else:\n",
    "    print(f\"The table {table_name} does not exist.\")\n"
   ]
  },
  {
   "cell_type": "code",
   "execution_count": 12,
   "metadata": {},
   "outputs": [
    {
     "name": "stdout",
     "output_type": "stream",
     "text": [
      "dest_scd\n",
      "incremental\n",
      "source_scd\n",
      "['dest_scd', 'incremental', 'source_scd']\n",
      "Tables contained in 'data-project-406509.vishal_db':\n"
     ]
    }
   ],
   "source": [
    "from google.cloud import bigquery\n",
    "dataset_id = 'data-project-406509.vishal_db'\n",
    "client = bigquery.Client()\n",
    "\n",
    "dat = list(client.list_tables(dataset_id))\n",
    "l=[]\n",
    "for i in dat:\n",
    "    print(i.table_id)\n",
    "    l.append(i.table_id)\n",
    "print(l)\n",
    "\n",
    "print(\"Tables contained in '{}':\".format(dataset_id))\n"
   ]
  },
  {
   "cell_type": "code",
   "execution_count": 48,
   "metadata": {},
   "outputs": [],
   "source": [
    "spark.stop()"
   ]
  },
  {
   "cell_type": "code",
   "execution_count": null,
   "metadata": {},
   "outputs": [],
   "source": []
  }
 ],
 "metadata": {
  "kernelspec": {
   "display_name": "Python 3",
   "language": "python",
   "name": "python3"
  },
  "language_info": {
   "codemirror_mode": {
    "name": "ipython",
    "version": 3
   },
   "file_extension": ".py",
   "mimetype": "text/x-python",
   "name": "python",
   "nbconvert_exporter": "python",
   "pygments_lexer": "ipython3",
   "version": "3.10.6"
  }
 },
 "nbformat": 4,
 "nbformat_minor": 2
}
